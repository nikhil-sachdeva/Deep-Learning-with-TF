{
 "cells": [
  {
   "cell_type": "code",
   "execution_count": 3,
   "metadata": {},
   "outputs": [],
   "source": [
    "import tensorflow as tf\n",
    "import pandas as pd\n",
    "from sklearn.datasets import load_iris\n",
    "from sklearn.model_selection import train_test_split\n",
    "import matplotlib.pyplot as plt"
   ]
  },
  {
   "cell_type": "code",
   "execution_count": 5,
   "metadata": {},
   "outputs": [],
   "source": [
    "iris = load_iris()\n",
    "iris_X, iris_y = iris.data[:-1,:], iris.target[:-1]\n",
    "iris_y= pd.get_dummies(iris_y).values\n",
    "trainX, testX, trainY, testY = train_test_split(iris_X, iris_y, test_size=0.33, random_state=42)"
   ]
  },
  {
   "cell_type": "code",
   "execution_count": 5,
   "metadata": {},
   "outputs": [],
   "source": [
    "# numFeatures is the number of features in our input data.\n",
    "# In the iris dataset, this number is '4'.\n",
    "numFeatures = trainX.shape[1]\n",
    "\n",
    "# numLabels is the number of classes our data points can be in.\n",
    "# In the iris dataset, this number is '3'.\n",
    "numLabels = trainY.shape[1]\n",
    "\n",
    "\n",
    "# Placeholders\n",
    "# 'None' means TensorFlow shouldn't expect a fixed number in that dimension\n",
    "X = tf.placeholder(tf.float32, [None, numFeatures]) # Iris has 4 features, so X is a tensor to hold our data.\n",
    "yGold = tf.placeholder(tf.float32, [None, numLabels]) # This will be our correct answers matrix for 3 classes."
   ]
  },
  {
   "cell_type": "code",
   "execution_count": 6,
   "metadata": {},
   "outputs": [],
   "source": [
    "W = tf.Variable(tf.zeros([4, 3]))  # 4-dimensional input and  3 classes\n",
    "b = tf.Variable(tf.zeros([3])) # 3-dimensional output [0,0,1],[0,1,0],[1,0,0]"
   ]
  },
  {
   "cell_type": "code",
   "execution_count": 7,
   "metadata": {},
   "outputs": [],
   "source": [
    "#Randomly sample from a normal distribution with standard deviation .01\n",
    "\n",
    "weights = tf.Variable(tf.random_normal([numFeatures,numLabels],\n",
    "                                       mean=0,\n",
    "                                       stddev=0.01,\n",
    "                                       name=\"weights\"))\n",
    "\n",
    "bias = tf.Variable(tf.random_normal([1,numLabels],\n",
    "                                    mean=0,\n",
    "                                    stddev=0.01,\n",
    "                                    name=\"bias\"))"
   ]
  },
  {
   "cell_type": "code",
   "execution_count": 8,
   "metadata": {},
   "outputs": [],
   "source": [
    "# Three-component breakdown of the Logistic Regression equation.\n",
    "# Note that these feed into each other.\n",
    "apply_weights_OP = tf.matmul(X, weights, name=\"apply_weights\")\n",
    "add_bias_OP = tf.add(apply_weights_OP, bias, name=\"add_bias\") \n",
    "activation_OP = tf.nn.sigmoid(add_bias_OP, name=\"activation\")\n",
    "\n",
    "# Number of Epochs in our training\n",
    "numEpochs = 700\n",
    "\n",
    "# Defining our learning rate iterations (decay)\n",
    "learningRate = tf.train.exponential_decay(learning_rate=0.0008,\n",
    "                                          global_step= 1,\n",
    "                                          decay_steps=trainX.shape[0],\n",
    "                                          decay_rate= 0.95,\n",
    "                                          staircase=True)\n",
    "\n",
    "\n",
    "#Defining our cost function - Squared Mean Error\n",
    "cost_OP = tf.nn.l2_loss(activation_OP-yGold, name=\"squared_error_cost\")\n",
    "\n",
    "#Defining our Gradient Descent\n",
    "training_OP = tf.train.GradientDescentOptimizer(learningRate).minimize(cost_OP)"
   ]
  },
  {
   "cell_type": "code",
   "execution_count": 9,
   "metadata": {},
   "outputs": [],
   "source": [
    "# Create a tensorflow session\n",
    "sess = tf.Session()\n",
    "\n",
    "# Initialize our weights and biases variables.\n",
    "init_OP = tf.global_variables_initializer()\n",
    "\n",
    "# Initialize all tensorflow variables\n",
    "sess.run(init_OP)"
   ]
  },
  {
   "cell_type": "code",
   "execution_count": 10,
   "metadata": {},
   "outputs": [],
   "source": [
    "# argmax(activation_OP, 1) returns the label with the most probability\n",
    "# argmax(yGold, 1) is the correct label\n",
    "correct_predictions_OP = tf.equal(tf.argmax(activation_OP,1),tf.argmax(yGold,1))\n",
    "\n",
    "# If every false prediction is 0 and every true prediction is 1, the average returns us the accuracy\n",
    "accuracy_OP = tf.reduce_mean(tf.cast(correct_predictions_OP, \"float\"))\n",
    "\n",
    "# Summary op for regression output\n",
    "activation_summary_OP = tf.summary.histogram(\"output\", activation_OP)\n",
    "\n",
    "# Summary op for accuracy\n",
    "accuracy_summary_OP = tf.summary.scalar(\"accuracy\", accuracy_OP)\n",
    "\n",
    "# Summary op for cost\n",
    "cost_summary_OP = tf.summary.scalar(\"cost\", cost_OP)\n",
    "\n",
    "# Summary ops to check how variables (W, b) are updating after each iteration\n",
    "weightSummary = tf.summary.histogram(\"weights\", weights.eval(session=sess))\n",
    "biasSummary = tf.summary.histogram(\"biases\", bias.eval(session=sess))\n",
    "\n",
    "# Merge all summaries\n",
    "merged = tf.summary.merge([activation_summary_OP, accuracy_summary_OP, cost_summary_OP, weightSummary, biasSummary])\n",
    "\n",
    "# Summary writer\n",
    "writer = tf.summary.FileWriter(\"summary_logs\", sess.graph)"
   ]
  },
  {
   "cell_type": "code",
   "execution_count": 11,
   "metadata": {},
   "outputs": [
    {
     "name": "stdout",
     "output_type": "stream",
     "text": [
      "step 0, training accuracy 0.363636, cost 34.5643, change in cost 34.5643\nstep 10, training accuracy 0.555556, cost 30.1703, change in cost 4.39404\nstep 20, training accuracy 0.646465, cost 28.2048, change in cost 1.96551\nstep 30, training accuracy 0.646465, cost 26.5474, change in cost 1.65742\nstep 40, training accuracy 0.646465, cost 25.1714, change in cost 1.37595\nstep 50, training accuracy 0.646465, cost 24.0356, change in cost 1.13583\nstep 60, training accuracy 0.646465, cost 23.0961, change in cost 0.939486\nstep 70, training accuracy 0.646465, cost 22.3139, change in cost 0.782171\nstep 80, training accuracy 0.646465, cost 21.6569, change in cost 0.657022\nstep 90, training accuracy 0.646465, cost 21.0995, change in cost 0.557404\nstep 100, training accuracy 0.666667, cost 20.6218, change in cost 0.47773\nstep 110, training accuracy 0.666667, cost 20.2082, change in cost 0.41353\nstep 120, training accuracy 0.666667, cost 19.8469, change in cost 0.36138\nstep 130, training accuracy 0.666667, cost 19.5282, change in cost 0.318638\nstep 140, training accuracy 0.666667, cost 19.2449, change in cost 0.283295\nstep 150, training accuracy 0.666667, cost 18.9911, change in cost 0.25382\nstep 160, training accuracy 0.676768, cost 18.7621, change in cost 0.229034\nstep 170, training accuracy 0.69697, cost 18.554, change in cost 0.208033\nstep 180, training accuracy 0.69697, cost 18.3639, change in cost 0.190092\nstep 190, training accuracy 0.717172, cost 18.1893, change in cost 0.174669\nstep 200, training accuracy 0.737374, cost 18.028, change in cost 0.161316\nstep 210, training accuracy 0.737374, cost 17.8783, change in cost 0.149685\nstep 220, training accuracy 0.747475, cost 17.7388, change in cost 0.13949\nstep 230, training accuracy 0.757576, cost 17.6083, change in cost 0.13051\nstep 240, training accuracy 0.757576, cost 17.4857, change in cost 0.122551\nstep 250, training accuracy 0.787879, cost 17.3703, change in cost 0.115471\nstep 260, training accuracy 0.787879, cost 17.2611, change in cost 0.109135\nstep 270, training accuracy 0.787879, cost 17.1577, change in cost 0.103445\nstep 280, training accuracy 0.787879, cost 17.0594, change in cost 0.0983086\nstep 290, training accuracy 0.787879, cost 16.9657, change in cost 0.0936565\nstep 300, training accuracy 0.79798, cost 16.8763, change in cost 0.0894279\n"
     ]
    },
    {
     "name": "stdout",
     "output_type": "stream",
     "text": [
      "step 310, training accuracy 0.79798, cost 16.7907, change in cost 0.0855713\nstep 320, training accuracy 0.79798, cost 16.7087, change in cost 0.082037\nstep 330, training accuracy 0.808081, cost 16.6299, change in cost 0.0787888\nstep 340, training accuracy 0.818182, cost 16.5541, change in cost 0.0758018\nstep 350, training accuracy 0.818182, cost 16.481, change in cost 0.0730381\nstep 360, training accuracy 0.838384, cost 16.4106, change in cost 0.0704765\nstep 370, training accuracy 0.838384, cost 16.3425, change in cost 0.0680981\nstep 380, training accuracy 0.838384, cost 16.2766, change in cost 0.0658817\nstep 390, training accuracy 0.838384, cost 16.2128, change in cost 0.0638123\nstep 400, training accuracy 0.848485, cost 16.1509, change in cost 0.0618744\nstep 410, training accuracy 0.848485, cost 16.0908, change in cost 0.0600586\nstep 420, training accuracy 0.858586, cost 16.0325, change in cost 0.0583515\nstep 430, training accuracy 0.858586, cost 15.9757, change in cost 0.0567427\nstep 440, training accuracy 0.858586, cost 15.9205, change in cost 0.0552254\nstep 450, training accuracy 0.868687, cost 15.8667, change in cost 0.053791\nstep 460, training accuracy 0.878788, cost 15.8143, change in cost 0.0524349\n"
     ]
    },
    {
     "name": "stdout",
     "output_type": "stream",
     "text": [
      "step 470, training accuracy 0.878788, cost 15.7631, change in cost 0.0511465\nstep 480, training accuracy 0.878788, cost 15.7132, change in cost 0.0499239\nstep 490, training accuracy 0.878788, cost 15.6645, change in cost 0.0487585\nstep 500, training accuracy 0.878788, cost 15.6168, change in cost 0.0476494\nstep 510, training accuracy 0.878788, cost 15.5702, change in cost 0.0465937\nstep 520, training accuracy 0.888889, cost 15.5246, change in cost 0.0455818\nstep 530, training accuracy 0.888889, cost 15.48, change in cost 0.0446148\nstep 540, training accuracy 0.89899, cost 15.4363, change in cost 0.0436907\nstep 550, training accuracy 0.89899, cost 15.3935, change in cost 0.0428038\nstep 560, training accuracy 0.89899, cost 15.3516, change in cost 0.0419521\nstep 570, training accuracy 0.89899, cost 15.3104, change in cost 0.0411339\nstep 580, training accuracy 0.89899, cost 15.2701, change in cost 0.040349\nstep 590, training accuracy 0.909091, cost 15.2305, change in cost 0.0395889\n"
     ]
    },
    {
     "name": "stdout",
     "output_type": "stream",
     "text": [
      "step 600, training accuracy 0.909091, cost 15.1916, change in cost 0.0388613\nstep 610, training accuracy 0.909091, cost 15.1535, change in cost 0.0381575\nstep 620, training accuracy 0.909091, cost 15.116, change in cost 0.0374794\nstep 630, training accuracy 0.909091, cost 15.0792, change in cost 0.0368233\nstep 640, training accuracy 0.909091, cost 15.043, change in cost 0.0361891\nstep 650, training accuracy 0.909091, cost 15.0074, change in cost 0.0355787\nstep 660, training accuracy 0.909091, cost 14.9724, change in cost 0.0349836\nstep 670, training accuracy 0.909091, cost 14.938, change in cost 0.0344086\nstep 680, training accuracy 0.909091, cost 14.9042, change in cost 0.0338526\nstep 690, training accuracy 0.909091, cost 14.8709, change in cost 0.0333128\nfinal accuracy on test set: 0.9\n"
     ]
    }
   ],
   "source": [
    "# Initialize reporting variables\n",
    "cost = 0\n",
    "diff = 1\n",
    "epoch_values = []\n",
    "accuracy_values = []\n",
    "cost_values = []\n",
    "\n",
    "# Training epochs\n",
    "for i in range(numEpochs):\n",
    "    if i > 1 and diff < .0001:\n",
    "        print(\"change in cost %g; convergence.\"%diff)\n",
    "        break\n",
    "    else:\n",
    "        # Run training step\n",
    "        step = sess.run(training_OP, feed_dict={X: trainX, yGold: trainY})\n",
    "        # Report occasional stats\n",
    "        if i % 10 == 0:\n",
    "            # Add epoch to epoch_values\n",
    "            epoch_values.append(i)\n",
    "            # Generate accuracy stats on test data\n",
    "            train_accuracy, newCost = sess.run([accuracy_OP, cost_OP], feed_dict={X: trainX, yGold: trainY})\n",
    "            # Add accuracy to live graphing variable\n",
    "            accuracy_values.append(train_accuracy)\n",
    "            # Add cost to live graphing variable\n",
    "            cost_values.append(newCost)\n",
    "            # Re-assign values for variables\n",
    "            diff = abs(newCost - cost)\n",
    "            cost = newCost\n",
    "\n",
    "            #generate print statements\n",
    "            print(\"step %d, training accuracy %g, cost %g, change in cost %g\"%(i, train_accuracy, newCost, diff))\n",
    "\n",
    "\n",
    "# How well do we perform on held-out test data?\n",
    "print(\"final accuracy on test set: %s\" %str(sess.run(accuracy_OP, \n",
    "                                                     feed_dict={X: testX, \n",
    "                                                                yGold: testY})))"
   ]
  },
  {
   "cell_type": "code",
   "execution_count": null,
   "metadata": {},
   "outputs": [],
   "source": [
    "%matplotlib inline\n",
    "import numpy as np\n",
    "import matplotlib.pyplot as plt\n",
    "plt.plot([np.mean(cost_values[i-50:i]) for i in range(len(cost_values))])\n",
    "plt.show()\n",
    "\n"
   ]
  }
 ],
 "metadata": {
  "kernelspec": {
   "display_name": "Python 3",
   "language": "python",
   "name": "python3"
  },
  "language_info": {
   "codemirror_mode": {
    "name": "ipython",
    "version": 3
   },
   "file_extension": ".py",
   "mimetype": "text/x-python",
   "name": "python",
   "nbconvert_exporter": "python",
   "pygments_lexer": "ipython3",
   "version": "3.6.6"
  }
 },
 "nbformat": 4,
 "nbformat_minor": 2
}
