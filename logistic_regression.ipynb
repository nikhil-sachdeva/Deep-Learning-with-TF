{
 "cells": [
  {
   "cell_type": "code",
   "execution_count": 2,
   "metadata": {},
   "outputs": [],
   "source": [
    "import tensorflow as tf\n",
    "import pandas as pd\n",
    "from sklearn.datasets import load_iris\n",
    "from sklearn.model_selection import train_test_split\n",
    "import matplotlib.pyplot as plt"
   ]
  },
  {
   "cell_type": "code",
   "execution_count": 11,
   "metadata": {},
   "outputs": [],
   "source": [
    "iris = load_iris()\n",
    "iris_X, iris_y = iris.data[:-1,:], iris.target[:-1]\n",
    "iris_y= pd.get_dummies(iris_y).values\n",
    "trainX, testX, trainY, testY = train_test_split(iris_X, iris_y, test_size=0.33, random_state=42)"
   ]
  },
  {
   "cell_type": "code",
   "execution_count": 12,
   "metadata": {},
   "outputs": [],
   "source": [
    "# numFeatures is the number of features in our input data.\n",
    "# In the iris dataset, this number is '4'.\n",
    "numFeatures = trainX.shape[1]\n",
    "\n",
    "# numLabels is the number of classes our data points can be in.\n",
    "# In the iris dataset, this number is '3'.\n",
    "numLabels = trainY.shape[1]\n",
    "\n",
    "\n",
    "# Placeholders\n",
    "# 'None' means TensorFlow shouldn't expect a fixed number in that dimension\n",
    "X = tf.placeholder(tf.float32, [None, numFeatures]) # Iris has 4 features, so X is a tensor to hold our data.\n",
    "yGold = tf.placeholder(tf.float32, [None, numLabels]) # This will be our correct answers matrix for 3 classes."
   ]
  },
  {
   "cell_type": "code",
   "execution_count": 13,
   "metadata": {},
   "outputs": [],
   "source": [
    "W = tf.Variable(tf.zeros([4, 3]))  # 4-dimensional input and  3 classes\n",
    "b = tf.Variable(tf.zeros([3])) # 3-dimensional output [0,0,1],[0,1,0],[1,0,0]"
   ]
  },
  {
   "cell_type": "code",
   "execution_count": 14,
   "metadata": {},
   "outputs": [],
   "source": [
    "#Randomly sample from a normal distribution with standard deviation .01\n",
    "\n",
    "weights = tf.Variable(tf.random_normal([numFeatures,numLabels],\n",
    "                                       mean=0,\n",
    "                                       stddev=0.01,\n",
    "                                       name=\"weights\"))\n",
    "\n",
    "bias = tf.Variable(tf.random_normal([1,numLabels],\n",
    "                                    mean=0,\n",
    "                                    stddev=0.01,\n",
    "                                    name=\"bias\"))"
   ]
  },
  {
   "cell_type": "code",
   "execution_count": 15,
   "metadata": {},
   "outputs": [],
   "source": [
    "# Three-component breakdown of the Logistic Regression equation.\n",
    "# Note that these feed into each other.\n",
    "apply_weights_OP = tf.matmul(X, weights, name=\"apply_weights\")\n",
    "add_bias_OP = tf.add(apply_weights_OP, bias, name=\"add_bias\") \n",
    "activation_OP = tf.nn.sigmoid(add_bias_OP, name=\"activation\")\n",
    "\n",
    "# Number of Epochs in our training\n",
    "numEpochs = 700\n",
    "\n",
    "# Defining our learning rate iterations (decay)\n",
    "learningRate = tf.train.exponential_decay(learning_rate=0.0008,\n",
    "                                          global_step= 1,\n",
    "                                          decay_steps=trainX.shape[0],\n",
    "                                          decay_rate= 0.95,\n",
    "                                          staircase=True)\n",
    "\n",
    "\n",
    "#Defining our cost function - Squared Mean Error\n",
    "cost_OP = tf.nn.l2_loss(activation_OP-yGold, name=\"squared_error_cost\")\n",
    "\n",
    "#Defining our Gradient Descent\n",
    "training_OP = tf.train.GradientDescentOptimizer(learningRate).minimize(cost_OP)"
   ]
  },
  {
   "cell_type": "code",
   "execution_count": 16,
   "metadata": {},
   "outputs": [],
   "source": [
    "# Create a tensorflow session\n",
    "sess = tf.Session()\n",
    "\n",
    "# Initialize our weights and biases variables.\n",
    "init_OP = tf.global_variables_initializer()\n",
    "\n",
    "# Initialize all tensorflow variables\n",
    "sess.run(init_OP)"
   ]
  },
  {
   "cell_type": "code",
   "execution_count": 17,
   "metadata": {},
   "outputs": [],
   "source": [
    "# argmax(activation_OP, 1) returns the label with the most probability\n",
    "# argmax(yGold, 1) is the correct label\n",
    "correct_predictions_OP = tf.equal(tf.argmax(activation_OP,1),tf.argmax(yGold,1))\n",
    "\n",
    "# If every false prediction is 0 and every true prediction is 1, the average returns us the accuracy\n",
    "accuracy_OP = tf.reduce_mean(tf.cast(correct_predictions_OP, \"float\"))\n",
    "\n",
    "# Summary op for regression output\n",
    "activation_summary_OP = tf.summary.histogram(\"output\", activation_OP)\n",
    "\n",
    "# Summary op for accuracy\n",
    "accuracy_summary_OP = tf.summary.scalar(\"accuracy\", accuracy_OP)\n",
    "\n",
    "# Summary op for cost\n",
    "cost_summary_OP = tf.summary.scalar(\"cost\", cost_OP)\n",
    "\n",
    "# Summary ops to check how variables (W, b) are updating after each iteration\n",
    "weightSummary = tf.summary.histogram(\"weights\", weights.eval(session=sess))\n",
    "biasSummary = tf.summary.histogram(\"biases\", bias.eval(session=sess))\n",
    "\n",
    "# Merge all summaries\n",
    "merged = tf.summary.merge([activation_summary_OP, accuracy_summary_OP, cost_summary_OP, weightSummary, biasSummary])\n",
    "\n",
    "# Summary writer\n",
    "writer = tf.summary.FileWriter(\"summary_logs\", sess.graph)"
   ]
  },
  {
   "cell_type": "code",
   "execution_count": 19,
   "metadata": {},
   "outputs": [
    {
     "name": "stdout",
     "output_type": "stream",
     "text": [
      "step 0, training accuracy 0.333333, cost 34.4502, change in cost 34.4502\nstep 10, training accuracy 0.50505, cost 30.279, change in cost 4.17118\nstep 20, training accuracy 0.646465, cost 28.3005, change in cost 1.97858\nstep 30, training accuracy 0.646465, cost 26.6301, change in cost 1.67031\nstep 40, training accuracy 0.646465, cost 25.2427, change in cost 1.38743\nstep 50, training accuracy 0.646465, cost 24.0972, change in cost 1.1455\nstep 60, training accuracy 0.646465, cost 23.1498, change in cost 0.947397\nstep 70, training accuracy 0.646465, cost 22.3613, change in cost 0.788548\nstep 80, training accuracy 0.646465, cost 21.6991, change in cost 0.662136\nstep 90, training accuracy 0.646465, cost 21.1376, change in cost 0.561518\nstep 100, training accuracy 0.656566, cost 20.6566, change in cost 0.481045\nstep 110, training accuracy 0.666667, cost 20.2403, change in cost 0.416225\nstep 120, training accuracy 0.666667, cost 19.8768, change in cost 0.363585\nstep 130, training accuracy 0.666667, cost 19.5563, change in cost 0.320456\nstep 140, training accuracy 0.666667, cost 19.2715, change in cost 0.284805\nstep 150, training accuracy 0.666667, cost 19.0164, change in cost 0.255089\nstep 160, training accuracy 0.676768, cost 18.7863, change in cost 0.23011\nstep 170, training accuracy 0.686869, cost 18.5773, change in cost 0.208942\nstep 180, training accuracy 0.69697, cost 18.3865, change in cost 0.19088\nstep 190, training accuracy 0.707071, cost 18.2111, change in cost 0.17535\nstep 200, training accuracy 0.717172, cost 18.0492, change in cost 0.161911\nstep 210, training accuracy 0.737374, cost 17.899, change in cost 0.150211\nstep 220, training accuracy 0.737374, cost 17.759, change in cost 0.139954\nstep 230, training accuracy 0.747475, cost 17.6281, change in cost 0.13093\nstep 240, training accuracy 0.757576, cost 17.5052, change in cost 0.122932\nstep 250, training accuracy 0.777778, cost 17.3894, change in cost 0.11581\nstep 260, training accuracy 0.787879, cost 17.2799, change in cost 0.109447\nstep 270, training accuracy 0.787879, cost 17.1762, change in cost 0.103733\nstep 280, training accuracy 0.787879, cost 17.0776, change in cost 0.0985756\nstep 290, training accuracy 0.787879, cost 16.9837, change in cost 0.0939064\nstep 300, training accuracy 0.79798, cost 16.894, change in cost 0.0896606\nstep 310, training accuracy 0.79798, cost 16.8083, change in cost 0.0857906\nstep 320, training accuracy 0.79798, cost 16.726, change in cost 0.0822449\nstep 330, training accuracy 0.79798, cost 16.647, change in cost 0.078989\nstep 340, training accuracy 0.808081, cost 16.571, change in cost 0.0759888\nstep 350, training accuracy 0.818182, cost 16.4978, change in cost 0.0732193\nstep 360, training accuracy 0.828283, cost 16.4272, change in cost 0.0706501\n"
     ]
    },
    {
     "name": "stdout",
     "output_type": "stream",
     "text": [
      "step 370, training accuracy 0.838384, cost 16.3589, change in cost 0.068264\nstep 380, training accuracy 0.838384, cost 16.2929, change in cost 0.0660439\nstep 390, training accuracy 0.838384, cost 16.2289, change in cost 0.0639668\nstep 400, training accuracy 0.848485, cost 16.1669, change in cost 0.062027\nstep 410, training accuracy 0.848485, cost 16.1067, change in cost 0.0602074\nstep 420, training accuracy 0.848485, cost 16.0482, change in cost 0.0584965\nstep 430, training accuracy 0.858586, cost 15.9913, change in cost 0.0568829\nstep 440, training accuracy 0.858586, cost 15.9359, change in cost 0.0553646\nstep 450, training accuracy 0.868687, cost 15.882, change in cost 0.0539284\nstep 460, training accuracy 0.878788, cost 15.8294, change in cost 0.0525646\nstep 470, training accuracy 0.878788, cost 15.7781, change in cost 0.0512772\nstep 480, training accuracy 0.878788, cost 15.7281, change in cost 0.0500517\nstep 490, training accuracy 0.878788, cost 15.6792, change in cost 0.0488834\nstep 500, training accuracy 0.878788, cost 15.6314, change in cost 0.0477743\nstep 510, training accuracy 0.878788, cost 15.5847, change in cost 0.0467157\nstep 520, training accuracy 0.878788, cost 15.539, change in cost 0.045701\nstep 530, training accuracy 0.888889, cost 15.4943, change in cost 0.044735\nstep 540, training accuracy 0.89899, cost 15.4505, change in cost 0.043807\nstep 550, training accuracy 0.89899, cost 15.4076, change in cost 0.0429192\n"
     ]
    },
    {
     "name": "stdout",
     "output_type": "stream",
     "text": [
      "step 560, training accuracy 0.89899, cost 15.3655, change in cost 0.0420666\nstep 570, training accuracy 0.89899, cost 15.3242, change in cost 0.0412464\nstep 580, training accuracy 0.89899, cost 15.2838, change in cost 0.0404596\nstep 590, training accuracy 0.909091, cost 15.2441, change in cost 0.0397015\nstep 600, training accuracy 0.909091, cost 15.2051, change in cost 0.03897\nstep 610, training accuracy 0.909091, cost 15.1668, change in cost 0.0382662\nstep 620, training accuracy 0.909091, cost 15.1293, change in cost 0.0375853\nstep 630, training accuracy 0.909091, cost 15.0923, change in cost 0.036931\nstep 640, training accuracy 0.909091, cost 15.056, change in cost 0.036293\nstep 650, training accuracy 0.909091, cost 15.0204, change in cost 0.0356808\nstep 660, training accuracy 0.909091, cost 14.9853, change in cost 0.0350876\nstep 670, training accuracy 0.909091, cost 14.9508, change in cost 0.0345106\nstep 680, training accuracy 0.909091, cost 14.9168, change in cost 0.0339527\nstep 690, training accuracy 0.909091, cost 14.8834, change in cost 0.033412\nfinal accuracy on test set: 0.9\n"
     ]
    }
   ],
   "source": [
    "# Initialize reporting variables\n",
    "cost = 0\n",
    "diff = 1\n",
    "epoch_values = []\n",
    "accuracy_values = []\n",
    "cost_values = []\n",
    "\n",
    "# Training epochs\n",
    "for i in range(numEpochs):\n",
    "    if i > 1 and diff < .0001:\n",
    "        print(\"change in cost %g; convergence.\"%diff)\n",
    "        break\n",
    "    else:\n",
    "        # Run training step\n",
    "        step = sess.run(training_OP, feed_dict={X: trainX, yGold: trainY})\n",
    "        # Report occasional stats\n",
    "        if i % 10 == 0:\n",
    "            # Add epoch to epoch_values\n",
    "            epoch_values.append(i)\n",
    "            # Generate accuracy stats on test data\n",
    "            train_accuracy, newCost = sess.run([accuracy_OP, cost_OP], feed_dict={X: trainX, yGold: trainY})\n",
    "            # Add accuracy to live graphing variable\n",
    "            accuracy_values.append(train_accuracy)\n",
    "            # Add cost to live graphing variable\n",
    "            cost_values.append(newCost)\n",
    "            # Re-assign values for variables\n",
    "            diff = abs(newCost - cost)\n",
    "            cost = newCost\n",
    "\n",
    "            #generate print statements\n",
    "            print(\"step %d, training accuracy %g, cost %g, change in cost %g\"%(i, train_accuracy, newCost, diff))\n",
    "\n",
    "\n",
    "# How well do we perform on held-out test data?\n",
    "print(\"final accuracy on test set: %s\" %str(sess.run(accuracy_OP, \n",
    "                                                     feed_dict={X: testX, \n",
    "                                                                yGold: testY})))"
   ]
  },
  {
   "cell_type": "code",
   "execution_count": null,
   "metadata": {},
   "outputs": [],
   "source": [
    "%matplotlib inline\n",
    "import numpy as np\n",
    "import matplotlib.pyplot as plt\n",
    "plt.plot([np.mean(cost_values[i-50:i]) for i in range(len(cost_values))])\n",
    "plt.show()\n"
   ]
  }
 ],
 "metadata": {
  "kernelspec": {
   "display_name": "Python 3",
   "language": "python",
   "name": "python3"
  },
  "language_info": {
   "codemirror_mode": {
    "name": "ipython",
    "version": 3
   },
   "file_extension": ".py",
   "mimetype": "text/x-python",
   "name": "python",
   "nbconvert_exporter": "python",
   "pygments_lexer": "ipython3",
   "version": "3.6.6"
  }
 },
 "nbformat": 4,
 "nbformat_minor": 2
}
