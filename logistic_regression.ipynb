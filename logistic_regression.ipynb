{
 "cells": [
  {
   "cell_type": "code",
   "execution_count": 2,
   "metadata": {},
   "outputs": [],
   "source": [
    "import tensorflow as tf\n",
    "import pandas as pd\n",
    "from sklearn.datasets import load_iris\n",
    "from sklearn.model_selection import train_test_split\n",
    "import matplotlib.pyplot as plt"
   ]
  },
  {
   "cell_type": "code",
   "execution_count": 3,
   "metadata": {},
   "outputs": [],
   "source": [
    "iris = load_iris()\n",
    "iris_X, iris_y = iris.data[:-1,:], iris.target[:-1]\n",
    "iris_y= pd.get_dummies(iris_y).values\n",
    "trainX, testX, trainY, testY = train_test_split(iris_X, iris_y, test_size=0.33, random_state=42)"
   ]
  },
  {
   "cell_type": "code",
   "execution_count": 4,
   "metadata": {},
   "outputs": [],
   "source": [
    "# numFeatures is the number of features in our input data.\n",
    "# In the iris dataset, this number is '4'.\n",
    "numFeatures = trainX.shape[1]\n",
    "\n",
    "# numLabels is the number of classes our data points can be in.\n",
    "# In the iris dataset, this number is '3'.\n",
    "numLabels = trainY.shape[1]\n",
    "\n",
    "\n",
    "# Placeholders\n",
    "# 'None' means TensorFlow shouldn't expect a fixed number in that dimension\n",
    "X = tf.placeholder(tf.float32, [None, numFeatures]) # Iris has 4 features, so X is a tensor to hold our data.\n",
    "yGold = tf.placeholder(tf.float32, [None, numLabels]) # This will be our correct answers matrix for 3 classes."
   ]
  },
  {
   "cell_type": "code",
   "execution_count": 5,
   "metadata": {},
   "outputs": [],
   "source": [
    "W = tf.Variable(tf.zeros([4, 3]))  # 4-dimensional input and  3 classes\n",
    "b = tf.Variable(tf.zeros([3])) # 3-dimensional output [0,0,1],[0,1,0],[1,0,0]"
   ]
  },
  {
   "cell_type": "code",
   "execution_count": 6,
   "metadata": {},
   "outputs": [],
   "source": [
    "#Randomly sample from a normal distribution with standard deviation .01\n",
    "\n",
    "weights = tf.Variable(tf.random_normal([numFeatures,numLabels],\n",
    "                                       mean=0,\n",
    "                                       stddev=0.01,\n",
    "                                       name=\"weights\"))\n",
    "\n",
    "bias = tf.Variable(tf.random_normal([1,numLabels],\n",
    "                                    mean=0,\n",
    "                                    stddev=0.01,\n",
    "                                    name=\"bias\"))"
   ]
  },
  {
   "cell_type": "code",
   "execution_count": 7,
   "metadata": {},
   "outputs": [],
   "source": [
    "# Three-component breakdown of the Logistic Regression equation.\n",
    "# Note that these feed into each other.\n",
    "apply_weights_OP = tf.matmul(X, weights, name=\"apply_weights\")\n",
    "add_bias_OP = tf.add(apply_weights_OP, bias, name=\"add_bias\") \n",
    "activation_OP = tf.nn.sigmoid(add_bias_OP, name=\"activation\")\n",
    "\n",
    "# Number of Epochs in our training\n",
    "numEpochs = 700\n",
    "\n",
    "# Defining our learning rate iterations (decay)\n",
    "learningRate = tf.train.exponential_decay(learning_rate=0.0008,\n",
    "                                          global_step= 1,\n",
    "                                          decay_steps=trainX.shape[0],\n",
    "                                          decay_rate= 0.95,\n",
    "                                          staircase=True)\n",
    "\n",
    "\n",
    "#Defining our cost function - Squared Mean Error\n",
    "cost_OP = tf.nn.l2_loss(activation_OP-yGold, name=\"squared_error_cost\")\n",
    "\n",
    "#Defining our Gradient Descent\n",
    "training_OP = tf.train.GradientDescentOptimizer(learningRate).minimize(cost_OP)"
   ]
  },
  {
   "cell_type": "code",
   "execution_count": 8,
   "metadata": {},
   "outputs": [],
   "source": [
    "# Create a tensorflow session\n",
    "sess = tf.Session()\n",
    "\n",
    "# Initialize our weights and biases variables.\n",
    "init_OP = tf.global_variables_initializer()\n",
    "\n",
    "# Initialize all tensorflow variables\n",
    "sess.run(init_OP)"
   ]
  },
  {
   "cell_type": "code",
   "execution_count": 9,
   "metadata": {},
   "outputs": [],
   "source": [
    "# argmax(activation_OP, 1) returns the label with the most probability\n",
    "# argmax(yGold, 1) is the correct label\n",
    "correct_predictions_OP = tf.equal(tf.argmax(activation_OP,1),tf.argmax(yGold,1))\n",
    "\n",
    "# If every false prediction is 0 and every true prediction is 1, the average returns us the accuracy\n",
    "accuracy_OP = tf.reduce_mean(tf.cast(correct_predictions_OP, \"float\"))\n",
    "\n",
    "# Summary op for regression output\n",
    "activation_summary_OP = tf.summary.histogram(\"output\", activation_OP)\n",
    "\n",
    "# Summary op for accuracy\n",
    "accuracy_summary_OP = tf.summary.scalar(\"accuracy\", accuracy_OP)\n",
    "\n",
    "# Summary op for cost\n",
    "cost_summary_OP = tf.summary.scalar(\"cost\", cost_OP)\n",
    "\n",
    "# Summary ops to check how variables (W, b) are updating after each iteration\n",
    "weightSummary = tf.summary.histogram(\"weights\", weights.eval(session=sess))\n",
    "biasSummary = tf.summary.histogram(\"biases\", bias.eval(session=sess))\n",
    "\n",
    "# Merge all summaries\n",
    "merged = tf.summary.merge([activation_summary_OP, accuracy_summary_OP, cost_summary_OP, weightSummary, biasSummary])\n",
    "\n",
    "# Summary writer\n",
    "writer = tf.summary.FileWriter(\"summary_logs\", sess.graph)"
   ]
  },
  {
   "cell_type": "code",
   "execution_count": 10,
   "metadata": {},
   "outputs": [
    {
     "name": "stdout",
     "output_type": "stream",
     "text": [
      "step 0, training accuracy 0.333333, cost 34.6293, change in cost 34.6293\n",
      "step 10, training accuracy 0.454545, cost 30.2711, change in cost 4.35823\n",
      "step 20, training accuracy 0.646465, cost 28.3117, change in cost 1.95941\n",
      "step 30, training accuracy 0.646465, cost 26.6495, change in cost 1.66218\n",
      "step 40, training accuracy 0.646465, cost 25.2642, change in cost 1.38525\n",
      "step 50, training accuracy 0.646465, cost 24.1183, change in cost 1.14592\n",
      "step 60, training accuracy 0.646465, cost 23.1696, change in cost 0.948719\n",
      "step 70, training accuracy 0.646465, cost 22.3796, change in cost 0.790028\n",
      "step 80, training accuracy 0.646465, cost 21.7161, change in cost 0.663509\n",
      "step 90, training accuracy 0.646465, cost 21.1534, change in cost 0.562693\n",
      "step 100, training accuracy 0.656566, cost 20.6713, change in cost 0.482027\n",
      "step 110, training accuracy 0.666667, cost 20.2543, change in cost 0.417044\n",
      "step 120, training accuracy 0.666667, cost 19.89, change in cost 0.364264\n",
      "step 130, training accuracy 0.666667, cost 19.569, change in cost 0.321026\n",
      "step 140, training accuracy 0.666667, cost 19.2837, change in cost 0.285294\n",
      "step 150, training accuracy 0.666667, cost 19.0282, change in cost 0.255503\n",
      "step 160, training accuracy 0.686869, cost 18.7977, change in cost 0.230471\n",
      "step 170, training accuracy 0.686869, cost 18.5885, change in cost 0.209263\n",
      "step 180, training accuracy 0.686869, cost 18.3973, change in cost 0.19116\n",
      "step 190, training accuracy 0.707071, cost 18.2217, change in cost 0.175602\n",
      "step 200, training accuracy 0.717172, cost 18.0596, change in cost 0.162138\n",
      "step 210, training accuracy 0.737374, cost 17.9092, change in cost 0.150412\n",
      "step 220, training accuracy 0.737374, cost 17.769, change in cost 0.140146\n",
      "step 230, training accuracy 0.747475, cost 17.6379, change in cost 0.131096\n",
      "step 240, training accuracy 0.757576, cost 17.5148, change in cost 0.123087\n",
      "step 250, training accuracy 0.777778, cost 17.3989, change in cost 0.115957\n",
      "step 260, training accuracy 0.787879, cost 17.2893, change in cost 0.109583\n",
      "step 270, training accuracy 0.787879, cost 17.1854, change in cost 0.103857\n",
      "step 280, training accuracy 0.787879, cost 17.0868, change in cost 0.0986938\n",
      "step 290, training accuracy 0.787879, cost 16.9927, change in cost 0.0940132\n",
      "step 300, training accuracy 0.79798, cost 16.903, change in cost 0.0897636\n",
      "step 310, training accuracy 0.79798, cost 16.8171, change in cost 0.0858879\n",
      "step 320, training accuracy 0.79798, cost 16.7347, change in cost 0.0823383\n",
      "step 330, training accuracy 0.79798, cost 16.6557, change in cost 0.0790749\n",
      "step 340, training accuracy 0.808081, cost 16.5796, change in cost 0.0760708\n",
      "step 350, training accuracy 0.828283, cost 16.5063, change in cost 0.0732975\n",
      "step 360, training accuracy 0.828283, cost 16.4356, change in cost 0.0707264\n",
      "step 370, training accuracy 0.838384, cost 16.3672, change in cost 0.0683365\n",
      "step 380, training accuracy 0.838384, cost 16.3011, change in cost 0.0661106\n",
      "step 390, training accuracy 0.838384, cost 16.2371, change in cost 0.0640335\n",
      "step 400, training accuracy 0.848485, cost 16.175, change in cost 0.0620918\n",
      "step 410, training accuracy 0.848485, cost 16.1147, change in cost 0.0602684\n",
      "step 420, training accuracy 0.848485, cost 16.0562, change in cost 0.0585537\n",
      "step 430, training accuracy 0.848485, cost 15.9992, change in cost 0.0569429\n",
      "step 440, training accuracy 0.868687, cost 15.9438, change in cost 0.055419\n",
      "step 450, training accuracy 0.868687, cost 15.8898, change in cost 0.0539808\n",
      "step 460, training accuracy 0.878788, cost 15.8372, change in cost 0.052619\n",
      "step 470, training accuracy 0.878788, cost 15.7859, change in cost 0.0513296\n",
      "step 480, training accuracy 0.878788, cost 15.7358, change in cost 0.0500994\n",
      "step 490, training accuracy 0.878788, cost 15.6869, change in cost 0.0489359\n",
      "step 500, training accuracy 0.878788, cost 15.639, change in cost 0.047822\n",
      "step 510, training accuracy 0.878788, cost 15.5923, change in cost 0.0467615\n",
      "step 520, training accuracy 0.878788, cost 15.5465, change in cost 0.0457497\n",
      "step 530, training accuracy 0.888889, cost 15.5017, change in cost 0.0447798\n",
      "step 540, training accuracy 0.89899, cost 15.4579, change in cost 0.0438528\n",
      "step 550, training accuracy 0.89899, cost 15.4149, change in cost 0.0429621\n",
      "step 560, training accuracy 0.89899, cost 15.3728, change in cost 0.0421104\n",
      "step 570, training accuracy 0.89899, cost 15.3315, change in cost 0.0412893\n",
      "step 580, training accuracy 0.89899, cost 15.291, change in cost 0.0405025\n",
      "step 590, training accuracy 0.89899, cost 15.2513, change in cost 0.0397425\n",
      "step 600, training accuracy 0.909091, cost 15.2123, change in cost 0.0390139\n",
      "step 610, training accuracy 0.909091, cost 15.174, change in cost 0.0383062\n",
      "step 620, training accuracy 0.909091, cost 15.1363, change in cost 0.0376282\n",
      "step 630, training accuracy 0.909091, cost 15.0994, change in cost 0.0369711\n",
      "step 640, training accuracy 0.909091, cost 15.063, change in cost 0.036334\n",
      "step 650, training accuracy 0.909091, cost 15.0273, change in cost 0.0357237\n",
      "step 660, training accuracy 0.909091, cost 14.9922, change in cost 0.0351248\n",
      "step 670, training accuracy 0.909091, cost 14.9576, change in cost 0.0345516\n",
      "step 680, training accuracy 0.909091, cost 14.9236, change in cost 0.0339909\n",
      "step 690, training accuracy 0.909091, cost 14.8902, change in cost 0.0334539\n",
      "final accuracy on test set: 0.9\n"
     ]
    }
   ],
   "source": [
    "# Initialize reporting variables\n",
    "cost = 0\n",
    "diff = 1\n",
    "epoch_values = []\n",
    "accuracy_values = []\n",
    "cost_values = []\n",
    "\n",
    "# Training epochs\n",
    "for i in range(numEpochs):\n",
    "    if i > 1 and diff < .0001:\n",
    "        print(\"change in cost %g; convergence.\"%diff)\n",
    "        break\n",
    "    else:\n",
    "        # Run training step\n",
    "        step = sess.run(training_OP, feed_dict={X: trainX, yGold: trainY})\n",
    "        # Report occasional stats\n",
    "        if i % 10 == 0:\n",
    "            # Add epoch to epoch_values\n",
    "            epoch_values.append(i)\n",
    "            # Generate accuracy stats on test data\n",
    "            train_accuracy, newCost = sess.run([accuracy_OP, cost_OP], feed_dict={X: trainX, yGold: trainY})\n",
    "            # Add accuracy to live graphing variable\n",
    "            accuracy_values.append(train_accuracy)\n",
    "            # Add cost to live graphing variable\n",
    "            cost_values.append(newCost)\n",
    "            # Re-assign values for variables\n",
    "            diff = abs(newCost - cost)\n",
    "            cost = newCost\n",
    "\n",
    "            #generate print statements\n",
    "            print(\"step %d, training accuracy %g, cost %g, change in cost %g\"%(i, train_accuracy, newCost, diff))\n",
    "\n",
    "\n",
    "# How well do we perform on held-out test data?\n",
    "print(\"final accuracy on test set: %s\" %str(sess.run(accuracy_OP, \n",
    "                                                     feed_dict={X: testX, \n",
    "                                                                yGold: testY})))"
   ]
  },
  {
   "cell_type": "code",
   "execution_count": 11,
   "metadata": {},
   "outputs": [
    {
     "name": "stderr",
     "output_type": "stream",
     "text": [
      "/anaconda3/lib/python3.6/site-packages/numpy/core/fromnumeric.py:2957: RuntimeWarning: Mean of empty slice.\n",
      "  out=out, **kwargs)\n",
      "/anaconda3/lib/python3.6/site-packages/numpy/core/_methods.py:80: RuntimeWarning: invalid value encountered in double_scalars\n",
      "  ret = ret.dtype.type(ret / rcount)\n"
     ]
    },
    {
     "data": {
      "image/png": "[encoded data removed]",
      "text/plain": [
       "<Figure size 432x288 with 1 Axes>"
      ]
     },
     "metadata": {
      "needs_background": "light"
     },
     "output_type": "display_data"
    }
   ],
   "source": [
    "%matplotlib inline\n",
    "import numpy as np\n",
    "import matplotlib.pyplot as plt\n",
    "plt.plot([np.mean(cost_values[i-50:i]) for i in range(len(cost_values))])\n",
    "plt.show()\n"
   ]
  }
 ],
 "metadata": {
  "kernelspec": {
   "display_name": "Python 3",
   "language": "python",
   "name": "python3"
  },
  "language_info": {
   "codemirror_mode": {
    "name": "ipython",
    "version": 3
   },
   "file_extension": ".py",
   "mimetype": "text/x-python",
   "name": "python",
   "nbconvert_exporter": "python",
   "pygments_lexer": "ipython3",
   "version": "3.6.6"
  }
 },
 "nbformat": 4,
 "nbformat_minor": 2
}
